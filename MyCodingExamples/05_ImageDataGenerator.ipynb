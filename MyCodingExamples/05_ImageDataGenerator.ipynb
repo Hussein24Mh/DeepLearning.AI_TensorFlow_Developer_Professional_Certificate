{
 "cells": [
  {
   "cell_type": "markdown",
   "id": "fd8db6da",
   "metadata": {},
   "source": [
    "<h1 style=color:#3498DB>ImageDataGenerator with Horses and Humans dataset</h1>"
   ]
  },
  {
   "cell_type": "code",
   "execution_count": 20,
   "id": "80c10d7d",
   "metadata": {},
   "outputs": [],
   "source": [
    "import os\n",
    "import wget\n",
    "import zipfile\n",
    "import tensorflow as tf\n",
    "from tensorflow import keras\n",
    "from tensorflow.keras.optimizers import RMSprop"
   ]
  },
  {
   "cell_type": "markdown",
   "id": "79dc80f6",
   "metadata": {},
   "source": [
    "<h3 style=color:#3498DB>Download dataset</h3>"
   ]
  },
  {
   "cell_type": "code",
   "execution_count": 2,
   "id": "c4d69519",
   "metadata": {},
   "outputs": [
    {
     "name": "stdout",
     "output_type": "stream",
     "text": [
      "100% [........................................................................] 11480187 / 11480187"
     ]
    },
    {
     "data": {
      "text/plain": [
       "'validation-horse-or-human.zip'"
      ]
     },
     "execution_count": 2,
     "metadata": {},
     "output_type": "execute_result"
    }
   ],
   "source": [
    "wget.download('https://storage.googleapis.com/tensorflow-1-public/course2/week3/horse-or-human.zip')\n",
    "\n",
    "wget.download('https://storage.googleapis.com/tensorflow-1-public/course2/week3/validation-horse-or-human.zip')"
   ]
  },
  {
   "cell_type": "markdown",
   "id": "6f53a28b",
   "metadata": {},
   "source": [
    "<h3 style=color:#3498DB>Unzip dataset</h3>"
   ]
  },
  {
   "cell_type": "code",
   "execution_count": 7,
   "id": "70008c2f",
   "metadata": {},
   "outputs": [],
   "source": [
    "# Unzip training set\n",
    "local_zip = 'horse-or-human.zip'\n",
    "zip_ref = zipfile.ZipFile(local_zip, 'r')\n",
    "zip_ref.extractall('tmp\\\\horse-or-human')\n",
    "\n",
    "# Unzip validation set\n",
    "local_zip = 'validation-horse-or-human.zip'\n",
    "zip_ref = zipfile.ZipFile(local_zip, 'r')\n",
    "zip_ref.extractall('tmp\\\\validation-horse-or-human')\n",
    "\n",
    "zip_ref.close()"
   ]
  },
  {
   "cell_type": "markdown",
   "id": "dc992003",
   "metadata": {},
   "source": [
    "<h3 style=color:#3498DB>Directories</h3>"
   ]
  },
  {
   "cell_type": "code",
   "execution_count": 12,
   "id": "77965876",
   "metadata": {},
   "outputs": [],
   "source": [
    "# Directory with training horse pictures\n",
    "train_horse_dir = os.path.join('tmp\\\\horse-or-human\\\\horses')\n",
    "\n",
    "# Directory with training human pictures\n",
    "train_human_dir = os.path.join('tmp\\\\horse-or-human\\\\humans')\n",
    "\n",
    "# Directory with validation horse pictures\n",
    "validation_horse_dir = os.path.join('tmp\\\\validation-horse-or-human\\\\horses')\n",
    "\n",
    "# Directory with validation human pictures\n",
    "validation_human_dir = os.path.join('tmp\\\\validation-horse-or-human\\\\humans')"
   ]
  },
  {
   "cell_type": "code",
   "execution_count": 13,
   "id": "99494b83",
   "metadata": {},
   "outputs": [
    {
     "name": "stdout",
     "output_type": "stream",
     "text": [
      "total training horse images: 500\n",
      "total training human images: 527\n",
      "total validation horse images: 128\n",
      "total validation human images: 128\n"
     ]
    }
   ],
   "source": [
    "print(f'total training horse images: {len(os.listdir(train_horse_dir))}')\n",
    "print(f'total training human images: {len(os.listdir(train_human_dir))}')\n",
    "print(f'total validation horse images: {len(os.listdir(validation_horse_dir))}')\n",
    "print(f'total validation human images: {len(os.listdir(validation_human_dir))}')"
   ]
  },
  {
   "cell_type": "markdown",
   "id": "fce0010d",
   "metadata": {},
   "source": [
    "<h1 style=color:#3498DB>ImageDataGenerator</h1>"
   ]
  },
  {
   "cell_type": "code",
   "execution_count": 15,
   "id": "ca779f0e",
   "metadata": {},
   "outputs": [
    {
     "name": "stdout",
     "output_type": "stream",
     "text": [
      "Found 1027 images belonging to 2 classes.\n",
      "Found 256 images belonging to 2 classes.\n"
     ]
    }
   ],
   "source": [
    "from tensorflow.keras.preprocessing.image import ImageDataGenerator\n",
    "\n",
    "# All images will be rescaled by 1./255\n",
    "train_datagen = ImageDataGenerator(rescale=1/255)\n",
    "validation_datagen = ImageDataGenerator(rescale=1/255)\n",
    "\n",
    "\n",
    "# Flow training images in batches of 128 using train_datagen generator\n",
    "train_generator = train_datagen.flow_from_directory(\n",
    "                                                    'tmp\\\\horse-or-human',\n",
    "                                                    target_size=(300, 300),\n",
    "                                                    batch_size=128,\n",
    "                                                    class_mode='binary')\n",
    "\n",
    "\n",
    "# Flow validation images in batches of 128 using validation_datagen generator\n",
    "validation_generator = validation_datagen.flow_from_directory(\n",
    "                                                              'tmp\\\\validation-horse-or-human',\n",
    "                                                              target_size=(300, 300),\n",
    "                                                              batch_size=32,\n",
    "                                                              class_mode='binary')"
   ]
  },
  {
   "cell_type": "markdown",
   "id": "a69da41d",
   "metadata": {},
   "source": [
    "<h3 style=color:#3498DB>Create Model</h3>"
   ]
  },
  {
   "cell_type": "code",
   "execution_count": 21,
   "id": "3cdfa17c",
   "metadata": {},
   "outputs": [],
   "source": [
    "def createmodel():\n",
    "    model = keras.models.Sequential([\n",
    "                                     # Note the input shape is the desired size of the image 300x300 with 3 bytes color\n",
    "                                     keras.Input(shape=(300, 300, 3)),\n",
    "\n",
    "                                     # This is the first convolution\n",
    "                                     keras.layers.Conv2D(16, (3,3), activation='relu'),\n",
    "                                     keras.layers.MaxPooling2D(2, 2),\n",
    "\n",
    "                                     # The second convolution\n",
    "                                     keras.layers.Conv2D(32, (3,3), activation='relu'),\n",
    "                                     keras.layers.MaxPooling2D(2,2),\n",
    "\n",
    "                                     # The third convolution\n",
    "                                     keras.layers.Conv2D(64, (3,3), activation='relu'),\n",
    "                                     keras.layers.MaxPooling2D(2,2),\n",
    "\n",
    "                                     # The fourth convolution\n",
    "                                     keras.layers.Conv2D(64, (3,3), activation='relu'),\n",
    "                                     keras.layers.MaxPooling2D(2,2),\n",
    "\n",
    "                                     # The fifth convolution\n",
    "                                     keras.layers.Conv2D(64, (3,3), activation='relu'),\n",
    "                                     keras.layers.MaxPooling2D(2,2),\n",
    "\n",
    "\n",
    "                                     # Flatten the results to feed into a DNN\n",
    "                                     keras.layers.Flatten(),\n",
    "\n",
    "                                     # 512 neuron hidden layer\n",
    "                                     keras.layers.Dense(512, activation='relu'),\n",
    "\n",
    "                                     # Only 1 output neuron. It will contain a value from 0-1 \n",
    "                                     # where 0 for 1 class ('horses') and 1 for the other ('humans')\n",
    "                                     keras.layers.Dense(1, activation='sigmoid')\n",
    "                                     ])\n",
    "    \n",
    "    model.compile(loss='binary_crossentropy',\n",
    "                  optimizer=RMSprop(learning_rate=0.001),\n",
    "                  metrics=['accuracy'])\n",
    "    \n",
    "    return model"
   ]
  },
  {
   "cell_type": "code",
   "execution_count": 22,
   "id": "0f900b3f",
   "metadata": {
    "scrolled": true
   },
   "outputs": [
    {
     "name": "stdout",
     "output_type": "stream",
     "text": [
      "Epoch 1/15\n",
      "8/8 [==============================] - 95s 12s/step - loss: 0.7914 - accuracy: 0.5566 - val_loss: 0.6442 - val_accuracy: 0.5156\n",
      "Epoch 2/15\n",
      "8/8 [==============================] - 87s 11s/step - loss: 1.1913 - accuracy: 0.6452 - val_loss: 0.8094 - val_accuracy: 0.5000\n",
      "Epoch 3/15\n",
      "8/8 [==============================] - 87s 11s/step - loss: 0.6454 - accuracy: 0.7297 - val_loss: 0.5035 - val_accuracy: 0.7461\n",
      "Epoch 4/15\n",
      "8/8 [==============================] - 79s 10s/step - loss: 0.4022 - accuracy: 0.8687 - val_loss: 0.5120 - val_accuracy: 0.8789\n",
      "Epoch 5/15\n",
      "8/8 [==============================] - 85s 10s/step - loss: 0.3037 - accuracy: 0.8906 - val_loss: 0.7522 - val_accuracy: 0.8594\n",
      "Epoch 6/15\n",
      "8/8 [==============================] - 90s 13s/step - loss: 0.2299 - accuracy: 0.9132 - val_loss: 0.9351 - val_accuracy: 0.8320\n",
      "Epoch 7/15\n",
      "8/8 [==============================] - 91s 11s/step - loss: 0.2106 - accuracy: 0.9277 - val_loss: 1.0675 - val_accuracy: 0.8398\n",
      "Epoch 8/15\n",
      "8/8 [==============================] - 80s 10s/step - loss: 0.2957 - accuracy: 0.8776 - val_loss: 0.7206 - val_accuracy: 0.7930\n",
      "Epoch 9/15\n",
      "8/8 [==============================] - 77s 10s/step - loss: 0.1554 - accuracy: 0.9395 - val_loss: 0.8949 - val_accuracy: 0.8633\n",
      "Epoch 10/15\n",
      "8/8 [==============================] - 80s 10s/step - loss: 0.3367 - accuracy: 0.9066 - val_loss: 1.0249 - val_accuracy: 0.8242\n",
      "Epoch 11/15\n",
      "8/8 [==============================] - 74s 9s/step - loss: 0.0949 - accuracy: 0.9644 - val_loss: 2.1612 - val_accuracy: 0.7734\n",
      "Epoch 12/15\n",
      "8/8 [==============================] - 90s 11s/step - loss: 0.1221 - accuracy: 0.9609 - val_loss: 0.9942 - val_accuracy: 0.8711\n",
      "Epoch 13/15\n",
      "8/8 [==============================] - 74s 9s/step - loss: 0.0462 - accuracy: 0.9822 - val_loss: 1.4337 - val_accuracy: 0.8516\n",
      "Epoch 14/15\n",
      "8/8 [==============================] - 78s 10s/step - loss: 0.0181 - accuracy: 0.9922 - val_loss: 1.4622 - val_accuracy: 0.8594\n",
      "Epoch 15/15\n",
      "8/8 [==============================] - 92s 12s/step - loss: 0.0316 - accuracy: 0.9854 - val_loss: 19.8392 - val_accuracy: 0.5859\n"
     ]
    }
   ],
   "source": [
    "model = createmodel()\n",
    "history = model.fit(\n",
    "                    train_generator,\n",
    "                    steps_per_epoch=8,  \n",
    "                    epochs=15,\n",
    "                    verbose=1,\n",
    "                    validation_data = validation_generator,\n",
    "                    validation_steps=8)"
   ]
  },
  {
   "cell_type": "markdown",
   "id": "9080d486",
   "metadata": {},
   "source": [
    "<h3 style=color:#3498DB>Model Summary</h3>"
   ]
  },
  {
   "cell_type": "code",
   "execution_count": 23,
   "id": "cb335f13",
   "metadata": {
    "scrolled": true
   },
   "outputs": [
    {
     "name": "stdout",
     "output_type": "stream",
     "text": [
      "Model: \"sequential\"\n",
      "_________________________________________________________________\n",
      " Layer (type)                Output Shape              Param #   \n",
      "=================================================================\n",
      " conv2d (Conv2D)             (None, 298, 298, 16)      448       \n",
      "                                                                 \n",
      " max_pooling2d (MaxPooling2D  (None, 149, 149, 16)     0         \n",
      " )                                                               \n",
      "                                                                 \n",
      " conv2d_1 (Conv2D)           (None, 147, 147, 32)      4640      \n",
      "                                                                 \n",
      " max_pooling2d_1 (MaxPooling  (None, 73, 73, 32)       0         \n",
      " 2D)                                                             \n",
      "                                                                 \n",
      " conv2d_2 (Conv2D)           (None, 71, 71, 64)        18496     \n",
      "                                                                 \n",
      " max_pooling2d_2 (MaxPooling  (None, 35, 35, 64)       0         \n",
      " 2D)                                                             \n",
      "                                                                 \n",
      " conv2d_3 (Conv2D)           (None, 33, 33, 64)        36928     \n",
      "                                                                 \n",
      " max_pooling2d_3 (MaxPooling  (None, 16, 16, 64)       0         \n",
      " 2D)                                                             \n",
      "                                                                 \n",
      " conv2d_4 (Conv2D)           (None, 14, 14, 64)        36928     \n",
      "                                                                 \n",
      " max_pooling2d_4 (MaxPooling  (None, 7, 7, 64)         0         \n",
      " 2D)                                                             \n",
      "                                                                 \n",
      " flatten (Flatten)           (None, 3136)              0         \n",
      "                                                                 \n",
      " dense (Dense)               (None, 512)               1606144   \n",
      "                                                                 \n",
      " dense_1 (Dense)             (None, 1)                 513       \n",
      "                                                                 \n",
      "=================================================================\n",
      "Total params: 1,704,097\n",
      "Trainable params: 1,704,097\n",
      "Non-trainable params: 0\n",
      "_________________________________________________________________\n"
     ]
    }
   ],
   "source": [
    "model.summary()"
   ]
  },
  {
   "cell_type": "markdown",
   "id": "0d9a9423",
   "metadata": {},
   "source": [
    "<h3 style=color:#3498DB>Save Model</h3>"
   ]
  },
  {
   "cell_type": "code",
   "execution_count": 24,
   "id": "16203dc1",
   "metadata": {},
   "outputs": [],
   "source": [
    "model.save('tmp\\\\HorsesHumansmodel.h5')"
   ]
  }
 ],
 "metadata": {
  "kernelspec": {
   "display_name": "Data101",
   "language": "python",
   "name": "data101"
  },
  "language_info": {
   "codemirror_mode": {
    "name": "ipython",
    "version": 3
   },
   "file_extension": ".py",
   "mimetype": "text/x-python",
   "name": "python",
   "nbconvert_exporter": "python",
   "pygments_lexer": "ipython3",
   "version": "3.10.2"
  }
 },
 "nbformat": 4,
 "nbformat_minor": 5
}
