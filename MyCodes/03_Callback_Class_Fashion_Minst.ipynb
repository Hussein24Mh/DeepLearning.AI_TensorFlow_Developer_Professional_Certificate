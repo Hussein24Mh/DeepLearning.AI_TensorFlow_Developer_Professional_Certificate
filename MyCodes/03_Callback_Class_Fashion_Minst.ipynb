{
 "cells": [
  {
   "cell_type": "markdown",
   "id": "2b50ca73",
   "metadata": {},
   "source": [
    "<h1 style=color:#3498DB>Callback Class on Fashion Minst</h1>"
   ]
  },
  {
   "cell_type": "code",
   "execution_count": 1,
   "id": "6f2b5e1e",
   "metadata": {},
   "outputs": [],
   "source": [
    "import numpy as np\n",
    "import tensorflow as tf\n",
    "from tensorflow import keras\n",
    "from tensorflow.keras import layers"
   ]
  },
  {
   "cell_type": "code",
   "execution_count": 2,
   "id": "9730c6af",
   "metadata": {},
   "outputs": [],
   "source": [
    "class myCallback(tf.keras.callbacks.Callback):\n",
    "    \n",
    "    def on_epoch_end(self, epoch, logs={}):\n",
    "        \"\"\"\n",
    "        epoch (integer) - index of epoch (required but unused in the function definition below)\n",
    "        logs (dict) - metric results from the training epoch\n",
    "        \"\"\"\n",
    "        \n",
    "        # Check Loss\n",
    "        if(logs.get('loss') < 0.4):\n",
    "\n",
    "            # Stop if threshold is met\n",
    "            print(\"\\n\\nLoss is lower than 0.4 so cancelling training!\")\n",
    "            self.model.stop_training = True"
   ]
  },
  {
   "cell_type": "code",
   "execution_count": 3,
   "id": "a0c916ad",
   "metadata": {},
   "outputs": [],
   "source": [
    "# Instantiate the dataset API\n",
    "fmnist = tf.keras.datasets.fashion_mnist\n",
    "\n",
    "# Load the dataset\n",
    "(x_train, y_train),(x_test, y_test) = fmnist.load_data()\n",
    "\n",
    "# Normalize the pixel values\n",
    "x_train, x_test = x_train / 255.0, x_test / 255.0"
   ]
  },
  {
   "cell_type": "code",
   "execution_count": 4,
   "id": "5dbcc7d6",
   "metadata": {},
   "outputs": [
    {
     "name": "stdout",
     "output_type": "stream",
     "text": [
      "Epoch 1/10\n",
      "1875/1875 [==============================] - 10s 5ms/step - loss: 0.4748 - accuracy: 0.8303\n",
      "Epoch 2/10\n",
      "1869/1875 [============================>.] - ETA: 0s - loss: 0.3561 - accuracy: 0.8689\n",
      "\n",
      "Loss is lower than 0.4 so cancelling training!\n",
      "1875/1875 [==============================] - 10s 5ms/step - loss: 0.3560 - accuracy: 0.8690\n"
     ]
    }
   ],
   "source": [
    "def callbackmodel():\n",
    "    \n",
    "    # Define the model\n",
    "    model = keras.Sequential([\n",
    "                              keras.Input(shape=(28, 28)),\n",
    "                              layers.Flatten(),\n",
    "                              layers.Dense(512, activation=tf.nn.relu),\n",
    "                              layers.Dense(10, activation=tf.nn.softmax)\n",
    "                              ])\n",
    "    \n",
    "    # Compile the model\n",
    "    model.compile(optimizer=tf.optimizers.Adam(),\n",
    "                  loss='sparse_categorical_crossentropy',\n",
    "                  metrics=['accuracy'])\n",
    "\n",
    "    model.fit(x_train, y_train, epochs=10, callbacks=[myCallback()])\n",
    "    \n",
    "    return model\n",
    "\n",
    "callbackmodel = callbackmodel()"
   ]
  }
 ],
 "metadata": {
  "kernelspec": {
   "display_name": "Data101",
   "language": "python",
   "name": "data101"
  },
  "language_info": {
   "codemirror_mode": {
    "name": "ipython",
    "version": 3
   },
   "file_extension": ".py",
   "mimetype": "text/x-python",
   "name": "python",
   "nbconvert_exporter": "python",
   "pygments_lexer": "ipython3",
   "version": "3.10.2"
  }
 },
 "nbformat": 4,
 "nbformat_minor": 5
}
