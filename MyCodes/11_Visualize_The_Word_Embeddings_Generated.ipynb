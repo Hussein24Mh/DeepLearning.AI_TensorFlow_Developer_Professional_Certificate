{
 "cells": [
  {
   "cell_type": "markdown",
   "id": "fe64a204",
   "metadata": {},
   "source": [
    "<h1 style=color:#4389db>Visualize The Word Embeddings Generated</h1>"
   ]
  },
  {
   "cell_type": "markdown",
   "id": "fa5aad57",
   "metadata": {},
   "source": [
    "<h2 style=color:#4389db>Download the Dataset</h2>"
   ]
  },
  {
   "cell_type": "code",
   "execution_count": 1,
   "id": "36de7fe6",
   "metadata": {},
   "outputs": [
    {
     "name": "stderr",
     "output_type": "stream",
     "text": [
      "C:\\Users\\Hussein\\mypython\\myvenv\\Data101\\lib\\site-packages\\tqdm\\auto.py:22: TqdmWarning: IProgress not found. Please update jupyter and ipywidgets. See https://ipywidgets.readthedocs.io/en/stable/user_install.html\n",
      "  from .autonotebook import tqdm as notebook_tqdm\n"
     ]
    }
   ],
   "source": [
    "import tensorflow_datasets as tfds\n",
    "\n",
    "# Load the IMDB Reviews dataset\n",
    "imdb, info = tfds.load(\"imdb_reviews\", with_info=True, as_supervised=True)"
   ]
  },
  {
   "cell_type": "markdown",
   "id": "76b0416e",
   "metadata": {},
   "source": [
    "<h2 style=color:#4389db>Split the dataset</h2>"
   ]
  },
  {
   "cell_type": "code",
   "execution_count": 7,
   "id": "416305d7",
   "metadata": {},
   "outputs": [],
   "source": [
    "import numpy as np\n",
    "\n",
    "# Get the train and test sets\n",
    "train_data, test_data = imdb['train'], imdb['test']\n",
    "\n",
    "# Initialize sentences and labels lists\n",
    "training_sentences = []\n",
    "training_labels = []\n",
    "\n",
    "testing_sentences = []\n",
    "testing_labels = []\n",
    "\n",
    "# Loop over all training examples and save the sentences and labels\n",
    "for s,l in train_data:\n",
    "    training_sentences.append(s.numpy().decode('utf8'))\n",
    "    training_labels.append(l.numpy())\n",
    "\n",
    "# Loop over all test examples and save the sentences and labels\n",
    "for s,l in test_data:\n",
    "    testing_sentences.append(s.numpy().decode('utf8'))\n",
    "    testing_labels.append(l.numpy())\n",
    "\n",
    "# Convert labels lists to numpy array\n",
    "training_labels_final = np.array(training_labels)\n",
    "testing_labels_final = np.array(testing_labels)"
   ]
  },
  {
   "cell_type": "markdown",
   "id": "fea19014",
   "metadata": {},
   "source": [
    "<h2 style=color:#4389db>Generate Padded Sequences</h2>"
   ]
  },
  {
   "cell_type": "code",
   "execution_count": 8,
   "id": "3f436708",
   "metadata": {},
   "outputs": [],
   "source": [
    "# Parameters\n",
    "\n",
    "vocab_size = 10000\n",
    "max_length = 120\n",
    "embedding_dim = 16\n",
    "trunc_type='post'\n",
    "oov_tok = \"<OOV>\""
   ]
  },
  {
   "cell_type": "code",
   "execution_count": 9,
   "id": "492d3294",
   "metadata": {},
   "outputs": [],
   "source": [
    "from tensorflow.keras.preprocessing.text import Tokenizer\n",
    "from tensorflow.keras.preprocessing.sequence import pad_sequences\n",
    "\n",
    "# Initialize the Tokenizer class\n",
    "tokenizer = Tokenizer(\n",
    "                      num_words = vocab_size,\n",
    "                      oov_token=oov_tok\n",
    "                      )\n",
    "\n",
    "# Generate the word index dictionary for the training sentences\n",
    "tokenizer.fit_on_texts(training_sentences)\n",
    "word_index = tokenizer.word_index\n",
    "\n",
    "# Generate and pad the training sequences\n",
    "sequences = tokenizer.texts_to_sequences(training_sentences)\n",
    "padded = pad_sequences(\n",
    "                       sequences,\n",
    "                       maxlen=max_length,\n",
    "                       truncating=trunc_type\n",
    "                       )\n",
    "\n",
    "\n",
    "# Generate and pad the test sequences\n",
    "testing_sequences = tokenizer.texts_to_sequences(testing_sentences)\n",
    "testing_padded = pad_sequences(\n",
    "                               testing_sequences,\n",
    "                               maxlen=max_length\n",
    "                               )"
   ]
  },
  {
   "cell_type": "code",
   "execution_count": 28,
   "id": "6dddd4a9",
   "metadata": {},
   "outputs": [],
   "source": [
    "# word_index"
   ]
  },
  {
   "cell_type": "markdown",
   "id": "f05e7bdf",
   "metadata": {},
   "source": [
    "<h2 style=color:#4389db>Build and Compile the Model</h2>"
   ]
  },
  {
   "cell_type": "code",
   "execution_count": 10,
   "id": "4b1dabde",
   "metadata": {},
   "outputs": [
    {
     "name": "stdout",
     "output_type": "stream",
     "text": [
      "Model: \"sequential\"\n",
      "_________________________________________________________________\n",
      " Layer (type)                Output Shape              Param #   \n",
      "=================================================================\n",
      " embedding (Embedding)       (None, 120, 16)           160000    \n",
      "                                                                 \n",
      " global_average_pooling1d (G  (None, 16)               0         \n",
      " lobalAveragePooling1D)                                          \n",
      "                                                                 \n",
      " dense (Dense)               (None, 6)                 102       \n",
      "                                                                 \n",
      " dense_1 (Dense)             (None, 1)                 7         \n",
      "                                                                 \n",
      "=================================================================\n",
      "Total params: 160,109\n",
      "Trainable params: 160,109\n",
      "Non-trainable params: 0\n",
      "_________________________________________________________________\n"
     ]
    }
   ],
   "source": [
    "import tensorflow as tf\n",
    "\n",
    "# Build the model\n",
    "model = tf.keras.Sequential([\n",
    "                             tf.keras.layers.Embedding(\n",
    "                                                       vocab_size,\n",
    "                                                       embedding_dim,\n",
    "                                                       input_length=max_length\n",
    "                                                       ),\n",
    "    \n",
    "                             tf.keras.layers.GlobalAveragePooling1D(),\n",
    "    \n",
    "                             tf.keras.layers.Dense(6, activation='relu'),\n",
    "                             tf.keras.layers.Dense(1, activation='sigmoid')\n",
    "                             ])\n",
    "\n",
    "# Setup the training parameters\n",
    "model.compile(loss='binary_crossentropy',optimizer='adam',metrics=['accuracy'])\n",
    "\n",
    "# Print the model summary\n",
    "model.summary()"
   ]
  },
  {
   "cell_type": "markdown",
   "id": "e6b347be",
   "metadata": {},
   "source": [
    "<h2 style=color:#4389db>Train the Model</h2>"
   ]
  },
  {
   "cell_type": "code",
   "execution_count": 11,
   "id": "5ae10095",
   "metadata": {},
   "outputs": [
    {
     "name": "stdout",
     "output_type": "stream",
     "text": [
      "Epoch 1/10\n",
      "782/782 [==============================] - 4s 5ms/step - loss: 0.5450 - accuracy: 0.7444 - val_loss: 0.3814 - val_accuracy: 0.8403\n",
      "Epoch 2/10\n",
      "782/782 [==============================] - 4s 5ms/step - loss: 0.3293 - accuracy: 0.8634 - val_loss: 0.3282 - val_accuracy: 0.8598\n",
      "Epoch 3/10\n",
      "782/782 [==============================] - 4s 5ms/step - loss: 0.2685 - accuracy: 0.8912 - val_loss: 0.3289 - val_accuracy: 0.8585\n",
      "Epoch 4/10\n",
      "782/782 [==============================] - 4s 5ms/step - loss: 0.2324 - accuracy: 0.9102 - val_loss: 0.3459 - val_accuracy: 0.8542\n",
      "Epoch 5/10\n",
      "782/782 [==============================] - 4s 6ms/step - loss: 0.2066 - accuracy: 0.9228 - val_loss: 0.3643 - val_accuracy: 0.8481\n",
      "Epoch 6/10\n",
      "782/782 [==============================] - 4s 5ms/step - loss: 0.1854 - accuracy: 0.9330 - val_loss: 0.3915 - val_accuracy: 0.8412\n",
      "Epoch 7/10\n",
      "782/782 [==============================] - 4s 6ms/step - loss: 0.1688 - accuracy: 0.9399 - val_loss: 0.4215 - val_accuracy: 0.8366\n",
      "Epoch 8/10\n",
      "782/782 [==============================] - 4s 6ms/step - loss: 0.1535 - accuracy: 0.9461 - val_loss: 0.4559 - val_accuracy: 0.8326\n",
      "Epoch 9/10\n",
      "782/782 [==============================] - 4s 5ms/step - loss: 0.1398 - accuracy: 0.9521 - val_loss: 0.5022 - val_accuracy: 0.8242\n",
      "Epoch 10/10\n",
      "782/782 [==============================] - 4s 5ms/step - loss: 0.1285 - accuracy: 0.9569 - val_loss: 0.5263 - val_accuracy: 0.8248\n"
     ]
    },
    {
     "data": {
      "text/plain": [
       "<keras.callbacks.History at 0x1cdfbdf7940>"
      ]
     },
     "execution_count": 11,
     "metadata": {},
     "output_type": "execute_result"
    }
   ],
   "source": [
    "num_epochs = 10\n",
    "\n",
    "# Train the model\n",
    "model.fit(\n",
    "          padded,\n",
    "          training_labels_final,\n",
    "          epochs=num_epochs,\n",
    "          validation_data=(testing_padded, testing_labels_final)\n",
    "          )"
   ]
  },
  {
   "cell_type": "markdown",
   "id": "c0cd74e1",
   "metadata": {},
   "source": [
    "<h2 style=color:#4389db>Visualize Word Embeddings</h2>"
   ]
  },
  {
   "cell_type": "code",
   "execution_count": 12,
   "id": "4c60c2ce",
   "metadata": {},
   "outputs": [
    {
     "name": "stdout",
     "output_type": "stream",
     "text": [
      "(10000, 16)\n"
     ]
    }
   ],
   "source": [
    "# Get the embedding layer from the model (i.e. first layer)\n",
    "embedding_layer = model.layers[0]\n",
    "\n",
    "# Get the weights of the embedding layer\n",
    "embedding_weights = embedding_layer.get_weights()[0]\n",
    "\n",
    "# Print the shape. Expected is (vocab_size, embedding_dim)\n",
    "print(embedding_weights.shape)"
   ]
  },
  {
   "cell_type": "code",
   "execution_count": 23,
   "id": "53aea006",
   "metadata": {},
   "outputs": [],
   "source": [
    "# Get the index-word dictionary\n",
    "reverse_word_index = tokenizer.index_word"
   ]
  },
  {
   "cell_type": "code",
   "execution_count": 27,
   "id": "00ced5f5",
   "metadata": {},
   "outputs": [],
   "source": [
    "# reverse_word_index"
   ]
  },
  {
   "cell_type": "code",
   "execution_count": 29,
   "id": "fccfd92c",
   "metadata": {},
   "outputs": [],
   "source": [
    "import io\n",
    "\n",
    "# Open writeable files\n",
    "out_v = io.open('vecs.tsv', 'w', encoding='utf-8')\n",
    "out_m = io.open('meta.tsv', 'w', encoding='utf-8')\n",
    "\n",
    "# Initialize the loop. Start counting at `1` because `0` is just for the padding\n",
    "for word_num in range(1, vocab_size):\n",
    "\n",
    "  # Get the word associated at the current index\n",
    "  word_name = reverse_word_index[word_num]\n",
    "\n",
    "  # Get the embedding weights associated with the current index\n",
    "  word_embedding = embedding_weights[word_num]\n",
    "\n",
    "  # Write the word name\n",
    "  out_m.write(word_name + \"\\n\")\n",
    "\n",
    "  # Write the word embedding\n",
    "  out_v.write('\\t'.join([str(x) for x in word_embedding]) + \"\\n\")\n",
    "\n",
    "# Close the files\n",
    "out_v.close()\n",
    "out_m.close()"
   ]
  }
 ],
 "metadata": {
  "kernelspec": {
   "display_name": "Data101",
   "language": "python",
   "name": "data101"
  },
  "language_info": {
   "codemirror_mode": {
    "name": "ipython",
    "version": 3
   },
   "file_extension": ".py",
   "mimetype": "text/x-python",
   "name": "python",
   "nbconvert_exporter": "python",
   "pygments_lexer": "ipython3",
   "version": "3.10.2"
  }
 },
 "nbformat": 4,
 "nbformat_minor": 5
}
