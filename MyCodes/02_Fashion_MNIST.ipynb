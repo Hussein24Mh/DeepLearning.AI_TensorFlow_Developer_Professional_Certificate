{
 "cells": [
  {
   "cell_type": "markdown",
   "id": "4a02cf76",
   "metadata": {},
   "source": [
    "<h1 style=color:#3498DB>Fashion MNIST</h1>"
   ]
  },
  {
   "cell_type": "code",
   "execution_count": 1,
   "id": "95b00491",
   "metadata": {},
   "outputs": [],
   "source": [
    "import numpy as np\n",
    "import matplotlib.pyplot as plt\n",
    "import tensorflow as tf\n",
    "from tensorflow import keras"
   ]
  },
  {
   "cell_type": "markdown",
   "id": "74eb4c70",
   "metadata": {},
   "source": [
    "<h3 style=color:#3498DB>Load dataset</h3>"
   ]
  },
  {
   "cell_type": "code",
   "execution_count": 2,
   "id": "2ca8a814",
   "metadata": {},
   "outputs": [
    {
     "name": "stdout",
     "output_type": "stream",
     "text": [
      "LABEL: 5\n",
      "\n",
      "IMAGE PIXEL ARRAY:\n",
      " [[  0   0   0   0   0   0   0   0   0   0   0   0   0   0   0   0   0   0   0   0   0   0   0   0   0   0   0   0]\n",
      " [  0   0   0   0   0   0   0   0   0   0   0   0   0   0   0   0   0   0   0   0   0   0   0   0   0   0   0   0]\n",
      " [  0   0   0   0   0   0   0   0   0   0   0   0   0   0   0   0   0   0   0   0   0   0   0   0   0   0   0   0]\n",
      " [  0   0   0   0   0   0   0   0   0   0   0   1   0   4   3   0   0   0  35  22  14  28 117 206   0   0   3   0]\n",
      " [  0   0   0   0   0   0   0   0   0   1   0   0   0   0   0  31 149 180 212 206 244 209 216 194   0   0   3   0]\n",
      " [  0   0   0   0   0   0   0   0   0   1   0   5   0  98 157 183 160 224 228 227 233 233 235 187 114   0   5   0]\n",
      " [  0   0   0   0   0   0   0   0   0   1   0   5   0 184 255 219 132 222 236 233 231 227 188 224 167   0   5   0]\n",
      " [  0   0   0   0   0   0   0   0   0   1   0   0   0 173 184 192 208 175 172 162 181 108 199 158   0   0   1   0]\n",
      " [  0   0   0   0   0   0   0   0   0   0   0   0   0   0   0   0 147 113 184 119  59 116 255   0   0   0   0   1]\n",
      " [  0   0   0   0   0   0   0   0   0   0   0   0   0   0   0   0   0   0 109 127 109 255  67   0   5   1   8   1]\n",
      " [  0   0   0   0   0   0   0   0   0   0   0   0   0   1   0   0   0   0 152  81 114 224   0   0   0   0   0   0]\n",
      " [  0   0   0   0   0   0   0   0   0   0   0   0   0   0   0   3   0  29 140  33 255 143   0   0   0  92 227  55]\n",
      " [  0   0   0   0   0   0   0   1   0   0   0   0   0   0   0   6   0  48 248 165 255  25  39 198 225 235 237  60]\n",
      " [  0   0   0   0   2   0   0   1   0   0   0   0   0   0   0   6   0  68 155 109 211 226 255 246 237 217  97   1]\n",
      " [  0   0   0   0   1   0   2   6   2   0   0   0   0   0   0   3   0  43  95  35 216 255 201 161 190 221 120   0]\n",
      " [  0   0   0   0   3   5   0   0   0   0   0   0   0   0   0   0   0 136 247 200 237 119 148  77 154 168  15   0]\n",
      " [  0   0   1   1   0   0   0  62   0   0   2   0   0   0   0   0 125 243 226 119 162  49  90 135 231 122  21   0]\n",
      " [  1   3   2   0   1 116 175 241 199   0   0   0   0   0   0 133 247 193 191 147 150 162 117 143 243  73  21   0]\n",
      " [  0   0   0   0 178 236 213 210 254  85   0   5   0   0 130 249 237 171  84 200 174 141  17 181 173  90   0   0]\n",
      " [  8  37  21   0 151 227 216 218 221 210   0   0   0 151 253 208 252 221  56 162 185 102 155 218  86  96   0   1]\n",
      " [135 236 212 234 205 226 230 241 141   4   1  96 254 254 229 177 105 160  99 214 252 241 255 224 199 112   0   4]\n",
      " [  0 155 186 201 252 250 201 243 255 242 255 233  78 102  87  38  68 222 255 241 236 206  74 158 123  24   0   3]\n",
      " [  0 133 159  80 119 190  97  91  52 111 189 202  45 158 179 176 255 255 223 218 251 166   2  82 108  13   0   1]\n",
      " [  0  56 255 158  73  68 110 142 119  14  33 120  58 183 221 247 254  77   0 181 255  26  61  81  81   0   0   0]\n",
      " [  2   0  69 249 252 210 255 255 255 239 239 162  34 226 255 118   0   0   0 208 248 211  55 149 175   0   4   0]\n",
      " [  0   0   0   0  49 145 192 216 232 233 234 234 202 123   0   0   0   0   0 179 208 208 192 205  77   0   6   0]\n",
      " [  0   0   0   0   0   0   0   0   0   0   0   0   0   0   0   0   0   0   0   0   0   0   0   0   0   0   0   0]\n",
      " [  0   0   0   0   0   0   0   0   0   0   0   0   0   0   0   0   0   0   0   0   0   0   0   0   0   0   0   0]]\n"
     ]
    },
    {
     "data": {
      "text/plain": [
       "<matplotlib.image.AxesImage at 0x1f4d017b3d0>"
      ]
     },
     "execution_count": 2,
     "metadata": {},
     "output_type": "execute_result"
    },
    {
     "data": {
      "image/png": "[encoded data removed]",
      "text/plain": [
       "<Figure size 432x288 with 1 Axes>"
      ]
     },
     "metadata": {
      "needs_background": "light"
     },
     "output_type": "display_data"
    }
   ],
   "source": [
    "fmnist = tf.keras.datasets.fashion_mnist\n",
    "(training_images, training_labels), (test_images, test_labels) = fmnist.load_data()\n",
    "\n",
    "# Print the label and image\n",
    "np.set_printoptions(linewidth=320)\n",
    "\n",
    "print(f'LABEL: {training_labels[60]}')\n",
    "print(f'\\nIMAGE PIXEL ARRAY:\\n {training_images[60]}')\n",
    "\n",
    "# Visualize the image\n",
    "plt.imshow(training_images[60])"
   ]
  },
  {
   "cell_type": "code",
   "execution_count": 3,
   "id": "416982f7",
   "metadata": {},
   "outputs": [
    {
     "name": "stdout",
     "output_type": "stream",
     "text": [
      "Epoch 1/5\n",
      "1875/1875 [==============================] - 4s 2ms/step - loss: 2.5576 - accuracy: 0.6889\n",
      "Epoch 2/5\n",
      "1875/1875 [==============================] - 3s 2ms/step - loss: 0.6400 - accuracy: 0.7765\n",
      "Epoch 3/5\n",
      "1875/1875 [==============================] - 3s 2ms/step - loss: 0.5624 - accuracy: 0.8024\n",
      "Epoch 4/5\n",
      "1875/1875 [==============================] - 3s 2ms/step - loss: 0.5283 - accuracy: 0.8186\n",
      "Epoch 5/5\n",
      "1875/1875 [==============================] - 4s 2ms/step - loss: 0.5060 - accuracy: 0.8245\n"
     ]
    }
   ],
   "source": [
    "def fashionminstmodel():\n",
    "    \n",
    "    # Build the classification model\n",
    "    model = tf.keras.Sequential([tf.keras.layers.Flatten(), \n",
    "                                 tf.keras.layers.Dense(128, activation=tf.nn.relu), \n",
    "                                 tf.keras.layers.Dense(10, activation=tf.nn.softmax)])\n",
    "    \n",
    "    model.compile(optimizer = tf.optimizers.Adam(),\n",
    "              loss = 'sparse_categorical_crossentropy',\n",
    "              metrics=['accuracy'])\n",
    "\n",
    "    model.fit(training_images, training_labels, epochs=5)\n",
    "    \n",
    "    # retun the model\n",
    "    return model\n",
    "\n",
    "fassionmodel = fashionminstmodel()"
   ]
  },
  {
   "cell_type": "code",
   "execution_count": 4,
   "id": "09a1a53a",
   "metadata": {},
   "outputs": [
    {
     "name": "stdout",
     "output_type": "stream",
     "text": [
      "313/313 [==============================] - 1s 2ms/step - loss: 0.5381 - accuracy: 0.8221\n"
     ]
    },
    {
     "data": {
      "text/plain": [
       "[0.5380713939666748, 0.8220999836921692]"
      ]
     },
     "execution_count": 4,
     "metadata": {},
     "output_type": "execute_result"
    }
   ],
   "source": [
    "# Evaluate the model on unseen data\n",
    "fassionmodel.evaluate(test_images, test_labels)"
   ]
  }
 ],
 "metadata": {
  "kernelspec": {
   "display_name": "Data101",
   "language": "python",
   "name": "data101"
  },
  "language_info": {
   "codemirror_mode": {
    "name": "ipython",
    "version": 3
   },
   "file_extension": ".py",
   "mimetype": "text/x-python",
   "name": "python",
   "nbconvert_exporter": "python",
   "pygments_lexer": "ipython3",
   "version": "3.10.2"
  }
 },
 "nbformat": 4,
 "nbformat_minor": 5
}
