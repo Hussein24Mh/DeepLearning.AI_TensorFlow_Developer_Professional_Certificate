{
 "cells": [
  {
   "cell_type": "code",
   "execution_count": 1,
   "id": "764b2af3",
   "metadata": {},
   "outputs": [],
   "source": [
    "import csv\n",
    "from tensorflow.keras.preprocessing.text import Tokenizer\n",
    "from tensorflow.keras.preprocessing.sequence import pad_sequences"
   ]
  },
  {
   "cell_type": "code",
   "execution_count": 2,
   "id": "06ffa7c0",
   "metadata": {},
   "outputs": [
    {
     "name": "stdout",
     "output_type": "stream",
     "text": [
      "=> First line (header) looks like this:\n",
      "\n",
      "ArticleId,Text,Category\n",
      "\n",
      "=> Each data point looks like this:\n",
      "\n",
      "1833,worldcom ex-boss launches defence lawyers defending former worldcom chief bernie ebbers against a battery of fraud charges have called a company whistleblower as their first witness.  cynthia cooper  worldcom s ex-head of internal accounting  alerted directors to irregular accounting practices at the us telecoms giant in 2002. her warnings led to the collapse of the firm following the discovery of an $11bn (Â£5.7bn) accounting fraud. mr ebbers has pleaded not guilty to charges of fraud and conspiracy.  prosecution lawyers have argued that mr ebbers orchestrated a series of accounting tricks at worldcom  ordering employees to hide expenses and inflate revenues to meet wall street earnings estimates. but ms cooper  who now runs her own consulting business  told a jury in new york on wednesday that external auditors arthur andersen had approved worldcom s accounting in early 2001 and 2002. she said andersen had given a  green light  to the procedures and practices used by worldcom. mr ebber s lawyers have said he was unaware of the fraud  arguing that auditors did not alert him to any problems.  ms cooper also said that during shareholder meetings mr ebbers often passed over technical questions to the company s finance chief  giving only  brief  answers himself. the prosecution s star witness  former worldcom financial chief scott sullivan  has said that mr ebbers ordered accounting adjustments at the firm  telling him to  hit our books . however  ms cooper said mr sullivan had not mentioned  anything uncomfortable  about worldcom s accounting during a 2001 audit committee meeting. mr ebbers could face a jail sentence of 85 years if convicted of all the charges he is facing. worldcom emerged from bankruptcy protection in 2004  and is now known as mci. last week  mci agreed to a buyout by verizon communications in a deal valued at $6.75bn.,business\n",
      "\n"
     ]
    }
   ],
   "source": [
    "with open('tmp\\\\BBC News Train.csv', 'r') as csvfile:\n",
    "    print(f'=> First line (header) looks like this:\\n\\n{csvfile.readline()}')\n",
    "    print(f'=> Each data point looks like this:\\n\\n{csvfile.readline()}')"
   ]
  },
  {
   "cell_type": "markdown",
   "id": "ae4a60b1",
   "metadata": {},
   "source": [
    "<h2 style=color:#3498db>Removing Stopwords Function</h2>"
   ]
  },
  {
   "cell_type": "code",
   "execution_count": 3,
   "id": "e80aaa04",
   "metadata": {},
   "outputs": [],
   "source": [
    "def remove_stopwords(sentence):\n",
    "    \n",
    "    # List of stopwords\n",
    "    stopwords = [\"a\", \"about\", \"above\", \"after\", \"again\", \"against\", \"all\", \"am\", \"an\", \"and\", \"any\",\n",
    "                 \"are\", \"as\", \"at\", \"be\", \"because\", \"been\", \"before\", \"being\", \"below\", \"between\", \"both\",\n",
    "                 \"but\", \"by\", \"could\", \"did\", \"do\", \"does\", \"doing\", \"down\", \"during\", \"each\", \"few\", \"for\",\n",
    "                 \"from\", \"further\", \"had\", \"has\", \"have\", \"having\", \"he\", \"he'd\", \"he'll\", \"he's\", \"her\", \"here\",\n",
    "                 \"here's\", \"hers\", \"herself\", \"him\", \"himself\", \"his\", \"how\", \"how's\", \"i\", \"i'd\", \"i'll\", \"i'm\",\n",
    "                 \"i've\", \"if\", \"in\", \"into\", \"is\", \"it\", \"it's\", \"its\", \"itself\", \"let's\", \"me\", \"more\", \"most\", \"my\",\n",
    "                 \"myself\", \"nor\", \"of\", \"on\", \"once\", \"only\", \"or\", \"other\", \"ought\", \"our\", \"ours\", \"ourselves\", \"out\",\n",
    "                 \"over\", \"own\", \"same\", \"she\", \"she'd\", \"she'll\", \"she's\", \"should\", \"so\", \"some\", \"such\", \"than\", \"that\",\n",
    "                 \"that's\", \"the\", \"their\", \"theirs\", \"them\", \"themselves\", \"then\", \"there\", \"there's\", \"these\", \"they\",\n",
    "                 \"they'd\", \"they'll\", \"they're\", \"they've\", \"this\", \"those\", \"through\", \"to\", \"too\", \"under\", \"until\",\n",
    "                 \"up\", \"very\", \"was\", \"we\", \"we'd\", \"we'll\", \"we're\", \"we've\", \"were\", \"what\", \"what's\", \"when\", \"when's\",\n",
    "                 \"where\", \"where's\", \"which\", \"while\", \"who\", \"who's\", \"whom\", \"why\", \"why's\", \"with\", \"would\", \"you\",\n",
    "                 \"you'd\", \"you'll\", \"you're\", \"you've\", \"your\", \"yours\", \"yourself\", \"yourselves\" ]\n",
    "    \n",
    "    sentence = sentence.lower()\n",
    "    \n",
    "    new_sentence = [word for word in sentence.split() if word not in stopwords]\n",
    "    \n",
    "    return \" \".join(new_sentence)"
   ]
  },
  {
   "cell_type": "markdown",
   "id": "95866305",
   "metadata": {},
   "source": [
    "<h2 style=color:#3498db>Reading The Raw Data</h2>"
   ]
  },
  {
   "cell_type": "code",
   "execution_count": 4,
   "id": "49c6dc2d",
   "metadata": {},
   "outputs": [],
   "source": [
    "def parse_data_from_csv_file(filename):\n",
    "    \n",
    "    with open(filename,'r') as file:\n",
    "        header = next(file)\n",
    "        \n",
    "        reader = csv.reader(file)\n",
    "        \n",
    "        labels = []\n",
    "        sentences = []\n",
    "        \n",
    "        for row in reader:\n",
    "            category, text = row[2], row[1]\n",
    "            \n",
    "            labels.append(category)\n",
    "            sentences.append(remove_stopwords(text))\n",
    "    \n",
    "    return labels, sentences"
   ]
  },
  {
   "cell_type": "code",
   "execution_count": 5,
   "id": "83f6f163",
   "metadata": {},
   "outputs": [],
   "source": [
    "labels, sentences = parse_data_from_csv_file(\"tmp\\\\BBC News Train.csv\")"
   ]
  },
  {
   "cell_type": "code",
   "execution_count": 7,
   "id": "bdeb0c1d",
   "metadata": {},
   "outputs": [
    {
     "data": {
      "text/plain": [
       "('business',\n",
       " 'worldcom ex-boss launches defence lawyers defending former worldcom chief bernie ebbers battery fraud charges called company whistleblower first witness. cynthia cooper worldcom s ex-head internal accounting alerted directors irregular accounting practices us telecoms giant 2002. warnings led collapse firm following discovery $11bn (â£5.7bn) accounting fraud. mr ebbers pleaded not guilty charges fraud conspiracy. prosecution lawyers argued mr ebbers orchestrated series accounting tricks worldcom ordering employees hide expenses inflate revenues meet wall street earnings estimates. ms cooper now runs consulting business told jury new york wednesday external auditors arthur andersen approved worldcom s accounting early 2001 2002. said andersen given green light procedures practices used worldcom. mr ebber s lawyers said unaware fraud arguing auditors not alert problems. ms cooper also said shareholder meetings mr ebbers often passed technical questions company s finance chief giving brief answers himself. prosecution s star witness former worldcom financial chief scott sullivan said mr ebbers ordered accounting adjustments firm telling hit books . however ms cooper said mr sullivan not mentioned anything uncomfortable worldcom s accounting 2001 audit committee meeting. mr ebbers face jail sentence 85 years convicted charges facing. worldcom emerged bankruptcy protection 2004 now known mci. last week mci agreed buyout verizon communications deal valued $6.75bn.')"
      ]
     },
     "execution_count": 7,
     "metadata": {},
     "output_type": "execute_result"
    }
   ],
   "source": [
    "labels[0], sentences[0]"
   ]
  },
  {
   "cell_type": "code",
   "execution_count": 8,
   "id": "c6e1a32a",
   "metadata": {},
   "outputs": [],
   "source": [
    "def fit_tokenizer(sentences):\n",
    "    \n",
    "    tokenizer = Tokenizer(\n",
    "                          num_words=200,\n",
    "                          oov_token=\"<OOV>\"\n",
    "                          )\n",
    "    \n",
    "    tokenizer.fit_on_texts(sentences)\n",
    "    \n",
    "    return tokenizer"
   ]
  },
  {
   "cell_type": "code",
   "execution_count": 9,
   "id": "9bbb40aa",
   "metadata": {},
   "outputs": [
    {
     "name": "stdout",
     "output_type": "stream",
     "text": [
      "Vocabulary contains 24963 words\n"
     ]
    }
   ],
   "source": [
    "sentences_tokenizer = fit_tokenizer(sentences)\n",
    "sentences_word_index = sentences_tokenizer.word_index\n",
    "\n",
    "print(f\"Vocabulary contains {len(sentences_word_index)} words\")"
   ]
  },
  {
   "cell_type": "code",
   "execution_count": 10,
   "id": "3a7235aa",
   "metadata": {},
   "outputs": [],
   "source": [
    "def get_padded_sequences(tokenizer, sentences):\n",
    "    \n",
    "    sequence = tokenizer.texts_to_sequences(sentences)\n",
    "    \n",
    "    padded_sequence = pad_sequences(\n",
    "                                    sequence,\n",
    "                                    padding=\"post\"\n",
    "                                    )\n",
    "    return padded_sequence"
   ]
  },
  {
   "cell_type": "code",
   "execution_count": 11,
   "id": "89e2f01f",
   "metadata": {},
   "outputs": [],
   "source": [
    "padded_sequences = get_padded_sequences(sentences_tokenizer, sentences)"
   ]
  },
  {
   "cell_type": "code",
   "execution_count": 12,
   "id": "290fec9f",
   "metadata": {},
   "outputs": [
    {
     "data": {
      "text/plain": [
       "(1490, 1881)"
      ]
     },
     "execution_count": 12,
     "metadata": {},
     "output_type": "execute_result"
    }
   ],
   "source": [
    "padded_sequences.shape"
   ]
  },
  {
   "cell_type": "code",
   "execution_count": 13,
   "id": "f9ee58dd",
   "metadata": {},
   "outputs": [
    {
     "data": {
      "text/plain": [
       "array([  1, 158,   1, ...,   0,   0,   0])"
      ]
     },
     "execution_count": 13,
     "metadata": {},
     "output_type": "execute_result"
    }
   ],
   "source": [
    "padded_sequences[1]"
   ]
  },
  {
   "cell_type": "code",
   "execution_count": 14,
   "id": "38cfe254",
   "metadata": {},
   "outputs": [],
   "source": [
    "def tokenize_labels(labels):\n",
    "    \n",
    "    label_tokenizer = Tokenizer()\n",
    "    \n",
    "    label_tokenizer.fit_on_texts(labels)\n",
    "    \n",
    "    label_word_index = label_tokenizer.word_index\n",
    "    \n",
    "    # ==================================================\n",
    "    \n",
    "    label_sequences = label_tokenizer.texts_to_sequences(labels)\n",
    "    \n",
    "    \n",
    "    return label_sequences, label_word_index"
   ]
  },
  {
   "cell_type": "code",
   "execution_count": 15,
   "id": "898548cb",
   "metadata": {},
   "outputs": [
    {
     "name": "stdout",
     "output_type": "stream",
     "text": [
      "Vocabulary of labels looks like this {'sport': 1, 'business': 2, 'politics': 3, 'entertainment': 4, 'tech': 5}\n",
      "\n",
      "First ten sequences [[2], [2], [2], [5], [2], [3], [1], [4], [2], [4]]\n",
      "\n"
     ]
    }
   ],
   "source": [
    "label_sequences, label_word_index = tokenize_labels(labels)\n",
    "print(f\"Vocabulary of labels looks like this {label_word_index}\\n\")\n",
    "print(f\"First ten sequences {label_sequences[:10]}\\n\")"
   ]
  }
 ],
 "metadata": {
  "kernelspec": {
   "display_name": "Data101",
   "language": "python",
   "name": "data101"
  },
  "language_info": {
   "codemirror_mode": {
    "name": "ipython",
    "version": 3
   },
   "file_extension": ".py",
   "mimetype": "text/x-python",
   "name": "python",
   "nbconvert_exporter": "python",
   "pygments_lexer": "ipython3",
   "version": "3.10.2"
  }
 },
 "nbformat": 4,
 "nbformat_minor": 5
}
